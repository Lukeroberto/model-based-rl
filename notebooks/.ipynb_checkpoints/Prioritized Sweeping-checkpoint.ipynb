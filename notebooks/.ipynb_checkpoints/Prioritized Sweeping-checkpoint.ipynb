{
 "cells": [
  {
   "cell_type": "code",
   "execution_count": 1,
   "metadata": {},
   "outputs": [],
   "source": [
    "import gym\n",
    "import numpy as np\n",
    "from gym.envs.registration import register\n",
    "import matplotlib.pyplot as plt\n",
    "from tqdm import tqdm_notebook as tqdm\n",
    "from collections import defaultdict\n",
    "import seaborn as sns\n",
    "\n",
    "plt.style.use(\"ggplot\")"
   ]
  },
  {
   "cell_type": "code",
   "execution_count": 2,
   "metadata": {},
   "outputs": [],
   "source": [
    "# Set Up environment\n",
    "register(\n",
    "    id='FrozenLakeNotSlippery-v0',\n",
    "    entry_point='gym.envs.toy_text:FrozenLakeEnv',\n",
    "    kwargs={'map_name' : '4x4', 'is_slippery': False},\n",
    "    max_episode_steps=100,\n",
    "    reward_threshold=0.78, # optimum = .8196\n",
    ")\n",
    "frozen_lake_env = gym.make(\"FrozenLakeNotSlippery-v0\")\n",
    "env = frozen_lake_env.env"
   ]
  },
  {
   "cell_type": "code",
   "execution_count": 3,
   "metadata": {},
   "outputs": [],
   "source": [
    "def eGreedy(Q, state, epsilon):\n",
    "    q_vals = Q[state, :]\n",
    "    \n",
    "    if np.random.rand() > epsilon:\n",
    "        return np.argmax(q_vals)\n",
    "    else:\n",
    "        return np.random.randint(len(q_vals))\n",
    "    \n",
    "def smooth(y, box_pts):\n",
    "    box = np.ones(box_pts)/box_pts\n",
    "    y_smooth = np.convolve(y, box, mode='valid')\n",
    "    return y_smooth    "
   ]
  },
  {
   "cell_type": "code",
   "execution_count": 4,
   "metadata": {},
   "outputs": [],
   "source": [
    "class PriorityQueue:\n",
    "    \n",
    "    def __init__(self):\n",
    "        \n",
    "        self.queue = list()\n",
    "    \n",
    "    def isEmpty(self):\n",
    "        return len(self.queue) == 0\n",
    "    \n",
    "    def insert(self, el, priority):\n",
    "        self.queue.append((el, priority))\n",
    "    \n",
    "    def pop(self):\n",
    "        \n",
    "        max = 0\n",
    "        for i, el in enumerate(self.queue):\n",
    "            if el > self.queue[max]:\n",
    "                max = i\n",
    "        \n",
    "        item = self.queue[max][0]\n",
    "        del self.queue[max]\n",
    "        \n",
    "        return item"
   ]
  },
  {
   "cell_type": "code",
   "execution_count": 5,
   "metadata": {},
   "outputs": [],
   "source": [
    "# Prioritized Sweep Agent\n",
    "def trainPrioritizedSweep(env, num_episodes, epsilon, n=0, threshold=0.1,alpha=0.1, gamma=0.99, max_iters=200):\n",
    "    \n",
    "    Q = np.zeros((env.observation_space.n, env.action_space.n))\n",
    "    model = defaultdict(lambda: (0,0))\n",
    "    queue = PriorityQueue()\n",
    "    \n",
    "    total_rewards = np.zeros(num_episodes)\n",
    "    \n",
    "    pbar = tqdm(range(num_episodes))\n",
    "    for ep in pbar:\n",
    "        \n",
    "        ep_rewards = 0\n",
    "        t = 0\n",
    "        state = env.reset()\n",
    "        done = False\n",
    "        while not done:\n",
    "            \n",
    "            action = eGreedy(Q, state, epsilon(ep))\n",
    "            \n",
    "            next_state, reward, done, _ = env.step(action)\n",
    "\n",
    "            # Update Model\n",
    "            model[(state, action)] = (next_state, reward)\n",
    "            \n",
    "            # Update Value Fcn\n",
    "            target = reward + gamma * np.amax(Q[next_state, :])\n",
    "            priority = abs(target - Q[state, action])\n",
    "#             Q[state, action] += alpha * priority\n",
    "            \n",
    "            if priority > threshold: queue.insert((state, action), priority)\n",
    "            \n",
    "            # Plan n steps into future and use it to update Value Fcn\n",
    "            for i in range(n):\n",
    "                \n",
    "                # Make sure queue is full\n",
    "                if queue.isEmpty(): break\n",
    "                \n",
    "                state_plan, action_plan = queue.pop()\n",
    "                next_state_plan, reward_plan = model[(state_plan, action_plan)]\n",
    "                \n",
    "                # Update Value Fcn\n",
    "                target = reward_plan + gamma * np.amax(Q[next_state_plan, :])\n",
    "                estimate = Q[state_plan, action_plan]\n",
    "                Q[state_plan, action_plan] += alpha * (target - estimate)\n",
    "                \n",
    "                # S,A pairs that lead to state_plan\n",
    "                pairs = [pair for pair in list(model.keys()) if model[pair][0] == state_plan]\n",
    "                for pair in pairs:\n",
    "                    _, reward_p = model[pair]\n",
    "                    target = reward_p + gamma * np.amax(Q[state_plan, :])\n",
    "                    priority = abs(target - Q[pair[0], pair[1]])\n",
    "                    \n",
    "                    if priority > threshold: queue.insert(pair, priority)\n",
    "                \n",
    "            \n",
    "            if t > max_iters: break\n",
    "            t += 1\n",
    "            state = next_state\n",
    "            ep_rewards += reward\n",
    "            \n",
    "            pbar.set_description(\"Total Rewards: {}\".format(sum(total_rewards)))\n",
    "        \n",
    "        total_rewards[ep] = ep_rewards\n",
    "    return total_rewards"
   ]
  },
  {
   "cell_type": "code",
   "execution_count": 6,
   "metadata": {},
   "outputs": [
    {
     "data": {
      "application/vnd.jupyter.widget-view+json": {
       "model_id": "db8c5884e59f4774b495140c86b4aaf4",
       "version_major": 2,
       "version_minor": 0
      },
      "text/plain": [
       "HBox(children=(IntProgress(value=0, max=1000), HTML(value='')))"
      ]
     },
     "metadata": {},
     "output_type": "display_data"
    },
    {
     "name": "stdout",
     "output_type": "stream",
     "text": [
      "\n"
     ]
    },
    {
     "data": {
      "application/vnd.jupyter.widget-view+json": {
       "model_id": "fbd3525124184f1c88bc625ee975dbf2",
       "version_major": 2,
       "version_minor": 0
      },
      "text/plain": [
       "HBox(children=(IntProgress(value=0, max=1000), HTML(value='')))"
      ]
     },
     "metadata": {},
     "output_type": "display_data"
    },
    {
     "name": "stdout",
     "output_type": "stream",
     "text": [
      "\n"
     ]
    },
    {
     "data": {
      "application/vnd.jupyter.widget-view+json": {
       "model_id": "c1ddc0aaa521463caf87e396179f64a3",
       "version_major": 2,
       "version_minor": 0
      },
      "text/plain": [
       "HBox(children=(IntProgress(value=0, max=1000), HTML(value='')))"
      ]
     },
     "metadata": {},
     "output_type": "display_data"
    },
    {
     "name": "stdout",
     "output_type": "stream",
     "text": [
      "\n"
     ]
    },
    {
     "data": {
      "application/vnd.jupyter.widget-view+json": {
       "model_id": "6507fe1d58154c3297688b6578c6716d",
       "version_major": 2,
       "version_minor": 0
      },
      "text/plain": [
       "HBox(children=(IntProgress(value=0, max=1000), HTML(value='')))"
      ]
     },
     "metadata": {},
     "output_type": "display_data"
    },
    {
     "name": "stdout",
     "output_type": "stream",
     "text": [
      "\n"
     ]
    },
    {
     "data": {
      "application/vnd.jupyter.widget-view+json": {
       "model_id": "6fef1eaf300f4bb1b0d5112c72de9ead",
       "version_major": 2,
       "version_minor": 0
      },
      "text/plain": [
       "HBox(children=(IntProgress(value=0, max=1000), HTML(value='')))"
      ]
     },
     "metadata": {},
     "output_type": "display_data"
    },
    {
     "name": "stdout",
     "output_type": "stream",
     "text": [
      "\n"
     ]
    }
   ],
   "source": [
    "num_episodes = 1000\n",
    "anneal_steps = 500\n",
    "initial_eps = 1.0\n",
    "def epsilon(t):\n",
    "    fraction = min(float(t) / anneal_steps, 1.0)                           \n",
    "    return initial_eps - fraction * initial_eps\n",
    "  \n",
    "# Test with planning horizon of 0 and 50\n",
    "n_vec = range(5)\n",
    "rewards = np.zeros((len(n_vec), num_episodes))\n",
    "for i,n in enumerate(n_vec):\n",
    "    rewards[i] = trainPrioritizedSweep(env, num_episodes, epsilon, n=n, max_iters=50)"
   ]
  },
  {
   "cell_type": "code",
   "execution_count": 8,
   "metadata": {},
   "outputs": [
    {
     "data": {
      "image/png": "[encoded data removed]",
      "text/plain": [
       "<Figure size 432x288 with 1 Axes>"
      ]
     },
     "metadata": {
      "needs_background": "light"
     },
     "output_type": "display_data"
    }
   ],
   "source": [
    "for reward in rewards:\n",
    "    plt.plot(smooth(reward, 100))\n",
    "plt.legend([\"N={}\".format(i) for i in n_vec])\n",
    "plt.show()"
   ]
  },
  {
   "cell_type": "code",
   "execution_count": null,
   "metadata": {},
   "outputs": [],
   "source": []
  },
  {
   "cell_type": "code",
   "execution_count": null,
   "metadata": {},
   "outputs": [],
   "source": []
  }
 ],
 "metadata": {
  "kernelspec": {
   "display_name": "Python 3",
   "language": "python",
   "name": "python3"
  },
  "language_info": {
   "codemirror_mode": {
    "name": "ipython",
    "version": 3
   },
   "file_extension": ".py",
   "mimetype": "text/x-python",
   "name": "python",
   "nbconvert_exporter": "python",
   "pygments_lexer": "ipython3",
   "version": "3.7.1"
  }
 },
 "nbformat": 4,
 "nbformat_minor": 2
}
