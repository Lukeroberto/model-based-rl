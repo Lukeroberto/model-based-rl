{
 "cells": [
  {
   "cell_type": "code",
   "execution_count": 1,
   "metadata": {},
   "outputs": [],
   "source": [
    "import gym\n",
    "import numpy as np\n",
    "from gym.envs.registration import register\n",
    "import matplotlib.pyplot as plt\n",
    "from tqdm import tqdm_notebook as tqdm\n",
    "from collections import defaultdict\n",
    "import seaborn as sns\n",
    "\n",
    "plt.style.use(\"ggplot\")"
   ]
  },
  {
   "cell_type": "code",
   "execution_count": 2,
   "metadata": {},
   "outputs": [],
   "source": [
    "# Set Up environment\n",
    "register(\n",
    "    id='FrozenLakeNotSlippery-v0',\n",
    "    entry_point='gym.envs.toy_text:FrozenLakeEnv',\n",
    "    kwargs={'map_name' : '4x4', 'is_slippery': False},\n",
    "    max_episode_steps=100,\n",
    "    reward_threshold=0.78, # optimum = .8196\n",
    ")\n",
    "frozen_lake_env = gym.make(\"FrozenLakeNotSlippery-v0\")\n",
    "env = frozen_lake_env.env"
   ]
  },
  {
   "cell_type": "code",
   "execution_count": 3,
   "metadata": {},
   "outputs": [],
   "source": [
    "def eGreedy(Q, state, epsilon):\n",
    "    q_vals = Q[state, :]\n",
    "    \n",
    "    if np.random.rand() > epsilon:\n",
    "        return np.argmax(q_vals)\n",
    "    else:\n",
    "        return np.random.randint(len(q_vals))\n",
    "    \n",
    "def smooth(y, box_pts):\n",
    "    box = np.ones(box_pts)/box_pts\n",
    "    y_smooth = np.convolve(y, box, mode='valid')\n",
    "    return y_smooth    "
   ]
  },
  {
   "cell_type": "code",
   "execution_count": 4,
   "metadata": {},
   "outputs": [],
   "source": [
    "# Dyna-Q Agent\n",
    "# Can also implement Dyna-Q+ if agent adds reward to untested actions\n",
    "# r' = r + k * sqrt(t), t is time since last time state was visited\n",
    "def trainDyna(env, num_episodes, epsilon, n=0, alpha=0.1, gamma=0.99, max_iters=200):\n",
    "    \n",
    "    Q = np.zeros((env.observation_space.n, env.action_space.n))\n",
    "    model = defaultdict(lambda: (0,0))\n",
    "    \n",
    "    total_rewards = np.zeros(num_episodes)\n",
    "    \n",
    "    pbar = tqdm(range(num_episodes))\n",
    "    for ep in pbar:\n",
    "        \n",
    "        ep_rewards = 0\n",
    "        t = 0\n",
    "        state = env.reset()\n",
    "        done = False\n",
    "        while not done:\n",
    "            \n",
    "            action = eGreedy(Q, state, epsilon(ep))\n",
    "            \n",
    "            next_state, reward, done, _ = env.step(action)\n",
    "\n",
    "            # Update Value Fcn\n",
    "            target = reward + gamma * np.amax(Q[next_state, :])\n",
    "            estimate = Q[state, action]\n",
    "            Q[state, action] += alpha * (target - estimate)\n",
    "            \n",
    "            # Update Model\n",
    "            model[(state, action)] = (next_state, reward)\n",
    "            \n",
    "            # Plan n steps into future and use it to update Value Fcn\n",
    "            for i in range(n):\n",
    "                \n",
    "                # Only loop over (S,A) pairs seen\n",
    "                observed_states = [i[0] for i in list(model.keys())]\n",
    "                actions_taken = [i[1] for i in list(model.keys())]\n",
    "                \n",
    "                # Randomly sample (S,A) pair\n",
    "                state_plan = np.random.choice(observed_states)\n",
    "                action_plan = np.random.choice(actions_taken)\n",
    "                \n",
    "                next_state_plan, reward_plan = model[(state_plan, action_plan)]\n",
    "                \n",
    "                # Update Value Fcn\n",
    "                target = reward_plan + gamma * np.amax(Q[next_state_plan, :])\n",
    "                estimate = Q[state_plan, action_plan]\n",
    "                Q[state_plan, action_plan] += alpha * (target - estimate)\n",
    "            \n",
    "            if t > max_iters: break\n",
    "            t += 1\n",
    "            state = next_state\n",
    "            ep_rewards += reward\n",
    "            \n",
    "            pbar.set_description(\"Total Rewards: {}\".format(sum(total_rewards)))\n",
    "        \n",
    "        total_rewards[ep] = ep_rewards\n",
    "    return total_rewards"
   ]
  },
  {
   "cell_type": "code",
   "execution_count": 15,
   "metadata": {
    "scrolled": true
   },
   "outputs": [
    {
     "data": {
      "application/vnd.jupyter.widget-view+json": {
       "model_id": "bfcbebf736814eb0a5bdc54c1920a8e0",
       "version_major": 2,
       "version_minor": 0
      },
      "text/plain": [
       "HBox(children=(IntProgress(value=0, max=1000), HTML(value='')))"
      ]
     },
     "metadata": {},
     "output_type": "display_data"
    },
    {
     "data": {
      "application/vnd.jupyter.widget-view+json": {
       "model_id": "b30ef65fc7914ea087612ce225194207",
       "version_major": 2,
       "version_minor": 0
      },
      "text/plain": [
       "HBox(children=(IntProgress(value=0, max=1000), HTML(value='')))"
      ]
     },
     "metadata": {},
     "output_type": "display_data"
    },
    {
     "data": {
      "application/vnd.jupyter.widget-view+json": {
       "model_id": "56a877d2225141998b68780501d96969",
       "version_major": 2,
       "version_minor": 0
      },
      "text/plain": [
       "HBox(children=(IntProgress(value=0, max=1000), HTML(value='')))"
      ]
     },
     "metadata": {},
     "output_type": "display_data"
    },
    {
     "data": {
      "application/vnd.jupyter.widget-view+json": {
       "model_id": "fd60a9e94c394531994342d320822019",
       "version_major": 2,
       "version_minor": 0
      },
      "text/plain": [
       "HBox(children=(IntProgress(value=0, max=1000), HTML(value='')))"
      ]
     },
     "metadata": {},
     "output_type": "display_data"
    },
    {
     "data": {
      "application/vnd.jupyter.widget-view+json": {
       "model_id": "41f01425921f42129204f80d5ceb04bc",
       "version_major": 2,
       "version_minor": 0
      },
      "text/plain": [
       "HBox(children=(IntProgress(value=0, max=1000), HTML(value='')))"
      ]
     },
     "metadata": {},
     "output_type": "display_data"
    },
    {
     "data": {
      "application/vnd.jupyter.widget-view+json": {
       "model_id": "c331ad87cdb846be9f5e6aabbaf4d698",
       "version_major": 2,
       "version_minor": 0
      },
      "text/plain": [
       "HBox(children=(IntProgress(value=0, max=1000), HTML(value='')))"
      ]
     },
     "metadata": {},
     "output_type": "display_data"
    },
    {
     "data": {
      "application/vnd.jupyter.widget-view+json": {
       "model_id": "f86c37a2f5f24be18c0c8d51ac944c7d",
       "version_major": 2,
       "version_minor": 0
      },
      "text/plain": [
       "HBox(children=(IntProgress(value=0, max=1000), HTML(value='')))"
      ]
     },
     "metadata": {},
     "output_type": "display_data"
    },
    {
     "data": {
      "application/vnd.jupyter.widget-view+json": {
       "model_id": "a9a9f9b6b3ad431c9a9d451e92c0f18f",
       "version_major": 2,
       "version_minor": 0
      },
      "text/plain": [
       "HBox(children=(IntProgress(value=0, max=1000), HTML(value='')))"
      ]
     },
     "metadata": {},
     "output_type": "display_data"
    },
    {
     "data": {
      "application/vnd.jupyter.widget-view+json": {
       "model_id": "830ce51f7f024c2691fcfdcf1ad7c704",
       "version_major": 2,
       "version_minor": 0
      },
      "text/plain": [
       "HBox(children=(IntProgress(value=0, max=1000), HTML(value='')))"
      ]
     },
     "metadata": {},
     "output_type": "display_data"
    },
    {
     "data": {
      "application/vnd.jupyter.widget-view+json": {
       "model_id": "47afb1f7cb924dbb8aa2b02f85876b72",
       "version_major": 2,
       "version_minor": 0
      },
      "text/plain": [
       "HBox(children=(IntProgress(value=0, max=1000), HTML(value='')))"
      ]
     },
     "metadata": {},
     "output_type": "display_data"
    }
   ],
   "source": [
    "num_episodes = 1000\n",
    "anneal_steps = 500\n",
    "initial_eps = 1.0\n",
    "def epsilon(t):\n",
    "    fraction = min(float(t) / anneal_steps, 1.0)                           \n",
    "    return initial_eps - fraction * initial_eps\n",
    "  \n",
    "# Test with planning horizon of 0 and 50\n",
    "n_vec = range(10)\n",
    "rewards = np.zeros((len(n_vec), num_episodes))\n",
    "for i,n in enumerate(n_vec):\n",
    "    rewards[i] = trainDyna(env, num_episodes, epsilon, n=n, max_iters=50)"
   ]
  },
  {
   "cell_type": "code",
   "execution_count": 17,
   "metadata": {},
   "outputs": [
    {
     "data": {
      "image/png": "[encoded data removed]",
      "text/plain": [
       "<Figure size 432x288 with 1 Axes>"
      ]
     },
     "metadata": {
      "needs_background": "light"
     },
     "output_type": "display_data"
    }
   ],
   "source": [
    "for reward in rewards:\n",
    "    plt.plot(smooth(reward, 100))\n",
    "plt.legend([\"N={}\".format(i) for i in n_vec])\n",
    "plt.show()"
   ]
  },
  {
   "cell_type": "code",
   "execution_count": null,
   "metadata": {},
   "outputs": [],
   "source": []
  }
 ],
 "metadata": {
  "kernelspec": {
   "display_name": "Python 3",
   "language": "python",
   "name": "python3"
  },
  "language_info": {
   "codemirror_mode": {
    "name": "ipython",
    "version": 3
   },
   "file_extension": ".py",
   "mimetype": "text/x-python",
   "name": "python",
   "nbconvert_exporter": "python",
   "pygments_lexer": "ipython3",
   "version": "3.7.1"
  }
 },
 "nbformat": 4,
 "nbformat_minor": 2
}
