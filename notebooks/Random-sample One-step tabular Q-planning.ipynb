{
 "cells": [
  {
   "cell_type": "code",
   "execution_count": 1,
   "metadata": {},
   "outputs": [],
   "source": [
    "import gym\n",
    "import numpy as np\n",
    "from gym.envs.registration import register\n",
    "import matplotlib.pyplot as plt\n",
    "from tqdm import tqdm_notebook as tqdm\n",
    "from collections import defaultdict\n",
    "import seaborn as sns\n",
    "\n",
    "plt.style.use(\"ggplot\")"
   ]
  },
  {
   "cell_type": "code",
   "execution_count": 2,
   "metadata": {},
   "outputs": [],
   "source": [
    "# Set Up environment\n",
    "register(\n",
    "    id='FrozenLakeNotSlippery-v0',\n",
    "    entry_point='gym.envs.toy_text:FrozenLakeEnv',\n",
    "    kwargs={'map_name' : '4x4', 'is_slippery': False},\n",
    "    max_episode_steps=100,\n",
    "    reward_threshold=0.78, # optimum = .8196\n",
    ")\n",
    "frozen_lake_env = gym.make(\"FrozenLakeNotSlippery-v0\")\n",
    "env = frozen_lake_env.env"
   ]
  },
  {
   "cell_type": "code",
   "execution_count": 3,
   "metadata": {},
   "outputs": [],
   "source": [
    "def getStateFrequencies(dataset):\n",
    "    state_visitation_freqs = {}\n",
    "    state_visitation_freqs = defaultdict(lambda: 0, state_visitation_freqs)\n",
    "    \n",
    "    state_inds = np.argmax(dataset, axis=1)\n",
    "    for state in state_inds:\n",
    "        state_visitation_freqs[state] += 1\n",
    "\n",
    "    total = sum(state_visitation_freqs.values(), 0.0)\n",
    "    svf = {k: v / total for k, v in state_visitation_freqs.items()}\n",
    "    \n",
    "    return svf\n",
    "\n",
    "def getHeatMapFromIndex(data, width):\n",
    "    heat_map = np.zeros((width, width))\n",
    "\n",
    "    for key, val in data.items():\n",
    "        ind_x = key % width\n",
    "        ind_y = key // width\n",
    "\n",
    "#         print(\"({}, {}) = {}\".format(ind_x, ind_y, val))\n",
    "        heat_map[ind_x, ind_y] = val\n",
    "    \n",
    "    return heat_map"
   ]
  },
  {
   "cell_type": "code",
   "execution_count": 4,
   "metadata": {},
   "outputs": [
    {
     "name": "stdout",
     "output_type": "stream",
     "text": [
      "Learned Model:  [[4.72310651e-08 5.37067232e-07 5.08995026e-07 5.31696560e-08]\n",
      " [4.83290746e-08 0.00000000e+00 6.01621306e-06 5.08379465e-07]\n",
      " [5.13463260e-07 6.68816597e-05 5.11727269e-07 6.01931953e-06]\n",
      " [6.01931700e-06 0.00000000e+00 5.40887075e-07 5.63865322e-07]\n",
      " [5.09105735e-07 5.96709891e-06 0.00000000e+00 0.00000000e+00]\n",
      " [0.00000000e+00 0.00000000e+00 0.00000000e+00 0.00000000e+00]\n",
      " [0.00000000e+00 7.35962686e-04 0.00000000e+00 6.01611198e-06]\n",
      " [0.00000000e+00 0.00000000e+00 0.00000000e+00 0.00000000e+00]\n",
      " [5.96539679e-06 0.00000000e+00 6.62821725e-05 5.39203590e-07]\n",
      " [5.98656773e-06 7.36390464e-04 7.36288831e-04 0.00000000e+00]\n",
      " [6.63452475e-05 8.18190173e-03 0.00000000e+00 6.61745393e-05]\n",
      " [0.00000000e+00 0.00000000e+00 0.00000000e+00 0.00000000e+00]\n",
      " [0.00000000e+00 0.00000000e+00 0.00000000e+00 0.00000000e+00]\n",
      " [0.00000000e+00 7.37104065e-04 8.18179371e-03 6.62823485e-05]\n",
      " [7.36309287e-04 8.18910081e-03 9.09090910e-02 7.36135614e-04]\n",
      " [0.00000000e+00 0.00000000e+00 0.00000000e+00 0.00000000e+00]]\n"
     ]
    }
   ],
   "source": [
    "# Planning\n",
    "\n",
    "Q = np.zeros((env.observation_space.n, env.action_space.n))\n",
    "\n",
    "alpha = 0.1\n",
    "gamma = 0.99\n",
    "\n",
    "num_iterations = 500\n",
    "for its in range(num_iterations):\n",
    "    \n",
    "    state = np.random.randint(env.observation_space.n)\n",
    "    action = np.random.randint(env.action_space.n)\n",
    "    \n",
    "    next_state, reward = env.P[state][action][0][1:3]\n",
    "    \n",
    "    target = reward + gamma * np.amax(Q[next_state,:])\n",
    "    estimate = Q[state, action]\n",
    "    Q[state, action] = alpha * (target - estimate)\n",
    "\n",
    "print(\"Learned Model: \", Q)"
   ]
  },
  {
   "cell_type": "code",
   "execution_count": 5,
   "metadata": {},
   "outputs": [
    {
     "data": {
      "image/png": "[encoded data removed]",
      "text/plain": [
       "<Figure size 432x288 with 2 Axes>"
      ]
     },
     "metadata": {
      "needs_background": "light"
     },
     "output_type": "display_data"
    }
   ],
   "source": [
    "# Collect Frozen Lake Data\n",
    "num_experiences = 1000\n",
    "agent_data = np.zeros((num_experiences, frozen_lake_env.observation_space.n))\n",
    "\n",
    "exp_i = 0\n",
    "total_reward = list()\n",
    "while exp_i != num_experiences:    \n",
    "    state = frozen_lake_env.reset()\n",
    "    \n",
    "    ep_reward = 0\n",
    "    done = False\n",
    "    while not done:\n",
    "        action = np.argmax(Q[state, :])\n",
    "\n",
    "        next_state, reward, done, _ = frozen_lake_env.step(action)\n",
    "        agent_data[exp_i, next_state] = 1\n",
    "        exp_i += 1\n",
    "        \n",
    "        state = next_state\n",
    "        ep_reward += reward\n",
    "        if exp_i == num_experiences: break\n",
    "    total_reward.append(ep_reward)\n",
    "    \n",
    "# Visualize Random Data Collection\n",
    "\n",
    "svf = getStateFrequencies(agent_data)\n",
    "\n",
    "heatmap = getHeatMapFromIndex(svf, 4)\n",
    "\n",
    "sns.heatmap(heatmap, annot=True, cmap=\"gray\")    \n",
    "plt.title(\"Frozen Lake Data Collection\")\n",
    "plt.show() "
   ]
  },
  {
   "cell_type": "code",
   "execution_count": 6,
   "metadata": {},
   "outputs": [
    {
     "data": {
      "text/plain": [
       "[<matplotlib.lines.Line2D at 0x7f7f93a6c978>]"
      ]
     },
     "execution_count": 6,
     "metadata": {},
     "output_type": "execute_result"
    },
    {
     "data": {
      "image/png": "[encoded data removed]",
      "text/plain": [
       "<Figure size 432x288 with 1 Axes>"
      ]
     },
     "metadata": {
      "needs_background": "light"
     },
     "output_type": "display_data"
    }
   ],
   "source": [
    "plt.plot(total_reward[:-1])"
   ]
  },
  {
   "cell_type": "code",
   "execution_count": null,
   "metadata": {},
   "outputs": [],
   "source": []
  }
 ],
 "metadata": {
  "kernelspec": {
   "display_name": "Python 3",
   "language": "python",
   "name": "python3"
  },
  "language_info": {
   "codemirror_mode": {
    "name": "ipython",
    "version": 3
   },
   "file_extension": ".py",
   "mimetype": "text/x-python",
   "name": "python",
   "nbconvert_exporter": "python",
   "pygments_lexer": "ipython3",
   "version": "3.7.1"
  }
 },
 "nbformat": 4,
 "nbformat_minor": 2
}
